{
 "cells": [
  {
   "metadata": {},
   "cell_type": "markdown",
   "source": "根据数据本身的波动性和相关性进行赋权",
   "id": "8b15a32259650446"
  },
  {
   "metadata": {},
   "cell_type": "markdown",
   "source": "波动性即对比强度，用标准差表示，标准差越大，波动性越强，权重越高",
   "id": "ec5814c03c1c5f99"
  },
  {
   "metadata": {},
   "cell_type": "markdown",
   "source": "相关性即冲突性，用相关系数表示，如果指标间的相关系数越大，冲突性越小，权重越低 为1-相关系数",
   "id": "9be9df80b5cb06d9"
  },
  {
   "metadata": {},
   "cell_type": "markdown",
   "source": "计算时，对比强度1与冲突性指标进行相乘，并归一化处理，得到最终权重",
   "id": "36e0cf274351307"
  },
  {
   "metadata": {
    "ExecuteTime": {
     "end_time": "2024-07-31T05:38:00.704557Z",
     "start_time": "2024-07-31T05:38:00.698575Z"
    }
   },
   "cell_type": "code",
   "source": [
    "import numpy as np\n",
    "\n",
    "def CRITIC(df):\n",
    "    std_d = np.std(df, axis=0)  # 对比强度\n",
    "    mean_d = np.mean(df, axis=0)  # 均值\n",
    "    cor_d = np.corrcoef(df.T)  # 相关系数矩阵\n",
    "    # 将对角线元素设为0\n",
    "    np.fill_diagonal(cor_d, 0)\n",
    "    # 计算非对角线元素的互补值之和\n",
    "    w_j = (1 - cor_d).sum(axis=0) * std_d\n",
    "    return w_j\n",
    "a = np.array([[9,10,175,100],\n",
    " [8,7,167,90],\n",
    " [6,3,154,70]], dtype=float)\n",
    "print(a)\n",
    "#进行规约,min-max规约能够进行很好的无量纲化处理，如果这个指标是越大越好\n",
    "# 最小-最大归一化\n",
    "for i in range(a.shape[1]):\n",
    "    min_val = min(a[:, i])\n",
    "    max_val = max(a[:, i])\n",
    "    a[:, i] = (a[:, i] - min_val) / (max_val - min_val)\n",
    "print(a)\n",
    "weights = CRITIC(a)\n",
    "print(weights)"
   ],
   "id": "f5c3699131f326e7",
   "outputs": [
    {
     "name": "stdout",
     "output_type": "stream",
     "text": [
      "[[  9.  10. 175. 100.]\n",
      " [  8.   7. 167.  90.]\n",
      " [  6.   3. 154.  70.]]\n",
      "[[1.         1.         1.         1.        ]\n",
      " [0.66666667 0.57142857 0.61904762 0.66666667]\n",
      " [0.         0.         0.         0.        ]]\n",
      "[0.4187497  0.41499726 0.41387517 0.4187497 ]\n"
     ]
    }
   ],
   "execution_count": 55
  },
  {
   "metadata": {},
   "cell_type": "markdown",
   "source": "",
   "id": "ff59adc6a1a90701"
  },
  {
   "metadata": {
    "ExecuteTime": {
     "end_time": "2024-07-31T05:37:12.998736Z",
     "start_time": "2024-07-31T05:37:12.990091Z"
    }
   },
   "cell_type": "code",
   "source": [
    "import numpy as np\n",
    "\n",
    "def CRITIC(df):\n",
    "    std_d = np.std(df, axis=0)  # 对比强度\n",
    "    mean_d = np.mean(df, axis=0)  # 均值\n",
    "    cor_d = np.corrcoef(df.T)  # 相关系数矩阵\n",
    "    print(\"Correlation Matrix before setting diagonal to 0:\\n\", cor_d)\n",
    "    # 将对角线元素设为0\n",
    "    np.fill_diagonal(cor_d, 0)\n",
    "    print(\"Correlation Matrix after setting diagonal to 0:\\n\", cor_d)\n",
    "    # 计算非对角线元素的互补值之和\n",
    "    w_j = (1 - cor_d).sum(axis=0) * std_d\n",
    "    return w_j\n",
    "\n",
    "a = np.array([\n",
    "    [9, 10, 175, 100],\n",
    "    [8, 7, 167, 90],\n",
    "    [6, 3, 154, 70]\n",
    "], dtype=float)  # 确保数据类型为浮点数\n",
    "print(\"Original Data:\\n\", a)\n",
    "\n",
    "# 进行规约, min-max规约能够进行很好的无量纲化处理，如果这个指标是越大越好\n",
    "# 最小-最大归一化\n",
    "for i in range(a.shape[1]):\n",
    "    min_val = np.min(a[:, i])\n",
    "    max_val = np.max(a[:, i])\n",
    "    if max_val - min_val != 0:  # 防止除以零\n",
    "        a[:, i] = (a[:, i] - min_val) / (max_val - min_val)\n",
    "    else:\n",
    "        a[:, i] = 0  # 如果最大值和最小值相同，则归一化后结果设为0\n",
    "\n",
    "print(\"Normalized Data:\\n\", a)\n",
    "\n",
    "weights = CRITIC(a)\n",
    "print(\"Weights:\\n\", weights)\n"
   ],
   "id": "f31c9b8de0657c49",
   "outputs": [
    {
     "name": "stdout",
     "output_type": "stream",
     "text": [
      "Original Data:\n",
      " [[  9.  10. 175. 100.]\n",
      " [  8.   7. 167.  90.]\n",
      " [  6.   3. 154.  70.]]\n",
      "Normalized Data:\n",
      " [[1.         1.         1.         1.        ]\n",
      " [0.66666667 0.57142857 0.61904762 0.66666667]\n",
      " [0.         0.         0.         0.        ]]\n",
      "Correlation Matrix before setting diagonal to 0:\n",
      " [[1.         0.99419163 0.99856828 1.        ]\n",
      " [0.99419163 1.         0.99852526 0.99419163]\n",
      " [0.99856828 0.99852526 1.         0.99856828]\n",
      " [1.         0.99419163 0.99856828 1.        ]]\n",
      "Correlation Matrix after setting diagonal to 0:\n",
      " [[0.         0.99419163 0.99856828 1.        ]\n",
      " [0.99419163 0.         0.99852526 0.99419163]\n",
      " [0.99856828 0.99852526 0.         0.99856828]\n",
      " [1.         0.99419163 0.99856828 0.        ]]\n",
      "Weights:\n",
      " [0.4187497  0.41499726 0.41387517 0.4187497 ]\n"
     ]
    }
   ],
   "execution_count": 51
  }
 ],
 "metadata": {
  "kernelspec": {
   "display_name": "Python 3",
   "language": "python",
   "name": "python3"
  },
  "language_info": {
   "codemirror_mode": {
    "name": "ipython",
    "version": 2
   },
   "file_extension": ".py",
   "mimetype": "text/x-python",
   "name": "python",
   "nbconvert_exporter": "python",
   "pygments_lexer": "ipython2",
   "version": "2.7.6"
  }
 },
 "nbformat": 4,
 "nbformat_minor": 5
}
