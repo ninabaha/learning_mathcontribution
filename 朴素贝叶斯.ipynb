{
 "cells": [
  {
   "metadata": {},
   "cell_type": "markdown",
   "source": [
    "贝叶斯公式在垃圾邮件分类中的作用原理在于利用条件概率来表示给定特征下各个类别的概率。具体来说，我们使用贝叶斯公式计算给定特征下各个类别的概率，即P(C|X)，其中C表示类别（垃圾邮件或正常邮件），X表示特征（如关键词、发件人、主题等）。在垃圾邮件分类中，贝叶斯公式通常用于实现朴素贝叶斯分类器。该分类器基于贝叶斯定理，通过计算给定特征下各个类别的概率，将待分类的邮件归为概率最大的类别。\n",
    "\n",
    "朴素贝叶斯算法是一种基于贝叶斯定理的分类方法。它假设各个特征之间相互独立，通过计算每个类别在给定特征下的概率，将待分类的样本归为概率最大的类别。朴素贝叶斯算法在处理文本分类、垃圾邮件过滤等任务中表现出色，并且具有简单、高效的特点。它的核心思想是根据已知的训练数据集，为每个类别计算出特征条件独立的概率，然后利用这些概率来预测新样本的类别。\n",
    "\n",
    "朴素贝叶斯算法处理垃圾邮件的基本流程可以分为以下几个步骤：\n",
    "\n",
    "    特征提取：从邮件数据集中提取出有意义的特征，通常采用TF-IDF（词频-逆文档频率）方法进行特征提取。\n",
    "    训练模型：将提取出的特征和对应的类别进行训练，计算出每个特征在不同类别下的条件概率。\n",
    "    分类：对未知样本进行分类，根据已知的特征和对应的条件概率计算出每个类别的概率，将样本归为概率最大的类别。\n",
    "\n",
    "假设我们正在使用朴素贝叶斯分类器对一组文本进行分类，其中一个类别是“正面情感”。我们的训练数据集中包含了一些正面的文本和负面的文本，但是正面的文本数量较少。在训练过程中，我们发现一个常见的词语“好”在正面的文本中出现了很多次，但在负面的文本中只出现了一次。根据朴素贝叶斯分类器的原理，每个词语的出现概率是独立的，因此在计算正面情感类别的条件概率时，我们不能简单地认为“好”这个词语的出现概率是1（在正面的文本中）和0（在负面的文本中）。这是因为负面的文本中“好”这个词出现的概率虽然很小，但并不为0。为了解决这个问题，我们可以使用拉普拉斯平滑方法。拉普拉斯平滑的核心思想是在计算概率时，给每个事件添加一个小的常数，以避免出现零概率的情况。具体来说，我们可以给“好”这个词的出现概率增加一个小的常数（例如0.01），这样在计算正面情感类别的条件概率时，就不会出现分母为0的情况。通过引入拉普拉斯平滑，我们可以更准确地计算每个词语的出现概率，从而使得朴素贝叶斯分类器的分类效果更好。这是因为拉普拉斯平滑方法能够处理训练数据中未出现的事件，避免将它们的概率估计为0。"
   ],
   "id": "55d1f901167885c"
  },
  {
   "metadata": {
    "ExecuteTime": {
     "end_time": "2024-08-18T14:24:49.602884Z",
     "start_time": "2024-08-18T14:24:49.382451Z"
    }
   },
   "cell_type": "code",
   "source": [
    "import numpy as np\n",
    "\n",
    "import pandas as pd\n",
    "\n",
    "from sklearn.model_selection import train_test_split\n",
    "\n",
    "from sklearn.preprocessing import Binarizer\n",
    "\n",
    "X_train = np.array([[0, 0], [0, 1], [0, 1], [0, 0], [0, 0],\n",
    "                          [1, 0], [1, 1], [1, 1], [1, 2], [1, 2],\n",
    "                          [2, 2], [2, 1], [2, 1], [2, 2], [2, 2]])\n",
    "\n",
    "y_train = np.array([0, 0, 1, 1, 0, 0, 0, 1, 1, 1, 1, 1, 1, 1, 0])\n",
    "X_test = np.array([[1, 0]])\n"
   ],
   "id": "8f769e2546ccd468",
   "outputs": [],
   "execution_count": 1
  },
  {
   "metadata": {
    "ExecuteTime": {
     "end_time": "2024-08-18T14:24:49.607197Z",
     "start_time": "2024-08-18T14:24:49.602884Z"
    }
   },
   "cell_type": "code",
   "source": [
    "N = len(y_train)\n",
    "K = len(np.unique(y_train))\n",
    "S = len(np.unique(X_train[:,0])) # 特征取值\n",
    "D = X_train.shape[1]  # 维度\n",
    "n = len(X_test)\n",
    "d = X_test.shape[1]\n",
    "prior = np.zeros(K)\n",
    "condition = np.zeros((K, D, S)) #条件概率\n",
    "lambda_=3"
   ],
   "id": "4c906c217987f2bf",
   "outputs": [],
   "execution_count": 2
  },
  {
   "metadata": {
    "ExecuteTime": {
     "end_time": "2024-08-18T14:24:49.614216Z",
     "start_time": "2024-08-18T14:24:49.608490Z"
    }
   },
   "cell_type": "code",
   "source": [
    "# 朴素贝叶斯训练\n",
    "\n",
    "def trainNB(X_train, y_train):\n",
    "\n",
    "    for i in range(0, N):\n",
    "\n",
    "        prior[y_train[i]] += 1\n",
    "\n",
    "        for j in range(0, D):\n",
    "\n",
    "            condition[y_train[i]][j][X_train[i][j]] += 1\n",
    "\n",
    "    prior_probability = (prior + lambda_) / (N + K*lambda_) # 拉普拉斯平滑\n",
    "\n",
    "    return prior_probability, condition  \n",
    "\n",
    "def predictNB(prior_probability, condition, X_test):\n",
    "\n",
    "    predict_label = -1 * np.ones(n)\n",
    "\n",
    "    for i in range(0, n):\n",
    "\n",
    "        predict_probability = np.ones(K)\n",
    "\n",
    "        to_predict = X_test[i]\n",
    "\n",
    "        for j in range(0, K):\n",
    "\n",
    "            prior_prob = prior_probability[j]\n",
    "\n",
    "            for k in range(0, d):\n",
    "\n",
    "                conditional_probability = (condition[j][k][to_predict[k]] + lambda_) / (sum(condition[j][k]) + S*lambda_)\n",
    "\n",
    "                predict_probability[j] *= conditional_probability\n",
    "\n",
    "            predict_probability[j] *= prior_prob\n",
    "\n",
    "        predict_label[i] = np.argmax(predict_probability)\n",
    "\n",
    "        print(\"Sample %d predicted as %d\" % (i, predict_label[i]))\n",
    "\n",
    "    return predict_label"
   ],
   "id": "e4a39a6c362265e5",
   "outputs": [],
   "execution_count": 3
  },
  {
   "metadata": {
    "ExecuteTime": {
     "end_time": "2024-08-18T14:26:49.401022Z",
     "start_time": "2024-08-18T14:26:49.396440Z"
    }
   },
   "cell_type": "code",
   "source": [
    "print(\"Start naive bayes training...\")   \n",
    "\n",
    "prior, conditional = trainNB(X_train=X_train, y_train=y_train)\n",
    "\n",
    "print(\"Testing on %d samples...\" % len(X_test))\n",
    "\n",
    "predictNB(prior_probability=prior,condition=conditional,X_test=X_test)"
   ],
   "id": "a9ba8a098102fe0d",
   "outputs": [
    {
     "name": "stdout",
     "output_type": "stream",
     "text": [
      "Start naive bayes training...\n",
      "Testing on 1 samples...\n",
      "Sample 0 predicted as 0\n"
     ]
    },
    {
     "data": {
      "text/plain": [
       "array([0.])"
      ]
     },
     "execution_count": 5,
     "metadata": {},
     "output_type": "execute_result"
    }
   ],
   "execution_count": 5
  },
  {
   "metadata": {},
   "cell_type": "markdown",
   "source": [
    "贝叶斯网络，又称为信念网络或有向无环图模型，是一种强大的概率图形模型。它通过有向无环图来表示变量之间的概率依赖关系，这种图由代表变量的节点和连接这些节点的有向边组成。每个节点代表一个随机变量，而节点之间的有向边则表达了变量间的因果关系，即从父节点指向子节点。这些关系通过条件概率来量化，而对于没有父节点的节点，我们则使用先验概率来描述其信息。\n",
    "\n",
    "贝叶斯网络的应用非常广泛，它能够帮助我们理解和分析那些涉及不确定性和概率性的事件。在实际应用中，这种模型特别适合于需要根据多个条件因素进行决策的场景。比如，在医疗诊断中，医生可能会使用贝叶斯网络来分析各种症状与疾病之间的关系，从而得出最有可能的诊断结果。在其他领域，如产品推荐、天气预报和网络安全等，贝叶斯网络也发挥着重要的作用。\n",
    "\n",
    "在处理数据时，贝叶斯网络可以从不完全、不精确或不确定的信息中进行推理，这使得它在面对现实世界中的复杂问题时尤为有用。通过学习数据中的模式和关系，贝叶斯网络能够预测新的数据点，并给出相应的概率分布。\n",
    "\n",
    "总的来说，贝叶斯网络是一种非常有用的工具，它能够帮助我们理解和处理现实世界中的不确定性，并做出更加可靠的决策。无论是新手还是有经验的分析师，掌握贝叶斯网络的基本原理和方法，都将极大地提升他们在面对复杂问题时进行有效分析和决策的能力。"
   ],
   "id": "2482dd3b908e6fd1"
  }
 ],
 "metadata": {
  "kernelspec": {
   "display_name": "Python 3",
   "language": "python",
   "name": "python3"
  },
  "language_info": {
   "codemirror_mode": {
    "name": "ipython",
    "version": 2
   },
   "file_extension": ".py",
   "mimetype": "text/x-python",
   "name": "python",
   "nbconvert_exporter": "python",
   "pygments_lexer": "ipython2",
   "version": "2.7.6"
  }
 },
 "nbformat": 4,
 "nbformat_minor": 5
}
