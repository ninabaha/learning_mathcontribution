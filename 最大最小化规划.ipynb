{
 "cells": [
  {
   "metadata": {},
   "cell_type": "markdown",
   "source": "最大最小算法是一种找出失败最大可能性中的最小值的算法，保守策略",
   "id": "e4c865c131f6441d"
  },
  {
   "metadata": {
    "ExecuteTime": {
     "end_time": "2024-07-26T06:50:40.664934Z",
     "start_time": "2024-07-26T06:50:40.555384Z"
    }
   },
   "cell_type": "code",
   "source": [
    "import numpy as np\n",
    "\n",
    "# 定义城市的位置 (x, y) 坐标\n",
    "cities = np.array([\n",
    "    [1, 1],\n",
    "    [2, 2],\n",
    "    [3, 3],\n",
    "    [4, 4],\n",
    "    [5, 5]\n",
    "])\n",
    "\n",
    "# 定义一个函数来计算两个点之间的欧几里得距离\n",
    "def euclidean_distance(a, b):\n",
    "    return np.sqrt(np.sum((a - b) ** 2))\n",
    "\n",
    "# 初始化变量来存储最小的最大距离和相应的位置\n",
    "min_max_distance = float('inf')\n",
    "best_location = None\n",
    "\n",
    "# 遍历每个可能的疾控中心位置（假设为城市的位置）\n",
    "for location in cities:\n",
    "    # 计算当前位置到所有城市的距离\n",
    "    distances = np.array([euclidean_distance(location, city) for city in cities])\n",
    "    # 找到当前位置到所有城市的最大距离\n",
    "    max_distance = np.max(distances)\n",
    "    \n",
    "    # 更新最小的最大距离和最佳位置\n",
    "    if max_distance < min_max_distance:\n",
    "        min_max_distance = max_distance\n",
    "        best_location = location\n",
    "\n",
    "# 输出结果\n",
    "print(\"最佳位置:\", best_location)\n",
    "print(\"最小的最大距离:\", min_max_distance)\n",
    "\n"
   ],
   "id": "4a4070e2babbff11",
   "outputs": [
    {
     "name": "stdout",
     "output_type": "stream",
     "text": [
      "最佳位置: [3 3]\n",
      "最小的最大距离: 2.8284271247461903\n"
     ]
    }
   ],
   "execution_count": 1
  },
  {
   "metadata": {
    "ExecuteTime": {
     "end_time": "2024-07-26T07:05:06.956923Z",
     "start_time": "2024-07-26T07:05:06.829887Z"
    }
   },
   "cell_type": "code",
   "source": [
    "import numpy as np\n",
    "import matplotlib.pyplot as plt\n",
    "# 定义城市的位置 (x, y) 坐标\n",
    "cities = np.array([\n",
    "    [1, 9],\n",
    "    [2, 2],\n",
    "    [2, 3],\n",
    "    [4, 4],\n",
    "    [5, 7]\n",
    "])\n",
    "\n",
    "# 欧几里得距离\n",
    "def euclidean_distance(a, b):\n",
    "    return np.sqrt(np.sum((a - b) ** 2))\n",
    "\n",
    "# 计算目标函数\n",
    "def objective_function(p, cities):\n",
    "    return np.max([euclidean_distance(p, city) for city in cities])\n",
    "\n",
    "# 计算梯度\n",
    "def gradient(p, cities):\n",
    "    gradients = []\n",
    "    for city in cities:\n",
    "        diff = p - city\n",
    "        distance = euclidean_distance(p, city)\n",
    "        grad = diff / (distance if distance > 0 else 1)  # 避免除以零\n",
    "        gradients.append(grad)\n",
    "    return np.sign(np.mean(gradients, axis=0))  # 使用符号作为梯度方向\n",
    "\n",
    "# 梯度下降\n",
    "def gradient_descent(cities, learning_rate=0.01, max_iterations=1000, tolerance=1e-6):\n",
    "    # 初始化位置为城市坐标的平均值\n",
    "    p = np.mean(cities, axis=0)\n",
    "    prev_distance = float('inf')\n",
    "    \n",
    "    for _ in range(max_iterations):\n",
    "        current_distance = objective_function(p, cities)\n",
    "        if abs(prev_distance - current_distance) < tolerance:\n",
    "            break\n",
    "        prev_distance = current_distance\n",
    "        p -= learning_rate * gradient(p, cities)\n",
    "    \n",
    "    return p, current_distance\n",
    "\n",
    "# 运行梯度下降\n",
    "best_location, min_max_distance = gradient_descent(cities)\n",
    "\n",
    "# 输出结果\n",
    "print(\"最佳位置:\", best_location)\n",
    "print(\"最小的最大距离:\", min_max_distance)\n",
    "plt.scatter(cities[:, 0], cities[:, 1])\n",
    "# 绘制城市之间的连线\n",
    "for i in cities:\n",
    "    plt.plot([best_location[0], i[0]], [best_location[1], i[1]], color='red')\n",
    "plt.scatter(best_location[0], best_location[1],color = 'r')\n",
    "plt.show()"
   ],
   "id": "8704659fe39c3d0a",
   "outputs": [
    {
     "name": "stdout",
     "output_type": "stream",
     "text": [
      "最佳位置: [3.08 4.14]\n",
      "最小的最大距离: 5.299528280894422\n"
     ]
    },
    {
     "data": {
      "text/plain": [
       "<Figure size 640x480 with 1 Axes>"
      ],
      "image/png": "[encoded data removed]"
     },
     "metadata": {},
     "output_type": "display_data"
    }
   ],
   "execution_count": 15
  }
 ],
 "metadata": {
  "kernelspec": {
   "display_name": "Python 3",
   "language": "python",
   "name": "python3"
  },
  "language_info": {
   "codemirror_mode": {
    "name": "ipython",
    "version": 2
   },
   "file_extension": ".py",
   "mimetype": "text/x-python",
   "name": "python",
   "nbconvert_exporter": "python",
   "pygments_lexer": "ipython2",
   "version": "2.7.6"
  }
 },
 "nbformat": 4,
 "nbformat_minor": 5
}
