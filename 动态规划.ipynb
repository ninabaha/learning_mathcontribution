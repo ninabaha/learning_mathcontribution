{
 "cells": [
  {
   "metadata": {},
   "cell_type": "markdown",
   "source": "",
   "id": "144899d1654b710d"
  },
  {
   "metadata": {},
   "cell_type": "markdown",
   "source": [
    "动态规划\n",
    "动态规划是运筹学的一个分支，通常用来解多阶段决策过程最优化问题。动态规划的基本想然后通过逐层地推来求得最后的解。目前，动态法就是将原问题转换为一系列相互联系的子问题规划常常出现在各类计算机算法竞赛或者程序员试面试中，在数学建模中出现的相对较少，但这个算法的思想在生活中非常实用，会对我们决!际问题的思维方式有一定启发。"
   ],
   "id": "60b18791623538db"
  },
  {
   "metadata": {},
   "cell_type": "markdown",
   "source": "第一步、确定状态：解动态规划需要开一个数组，数组每个元素需要明确表示代表什么，类似于x、y的含义。",
   "id": "49b4c1f987a4d2e"
  },
  {
   "metadata": {},
   "cell_type": "markdown",
   "source": "只关注最后一步，即最后一步完成和前一步完成总任务的任务量减最后一步的完成量。就是把原问题改成规模更小的子问题。递归方法",
   "id": "d4d08de1b7529cd7"
  },
  {
   "metadata": {},
   "cell_type": "markdown",
   "source": "第二步、将问题转移成方程",
   "id": "6cb19d07693beeb7"
  },
  {
   "metadata": {},
   "cell_type": "markdown",
   "source": "如 f[x] = min{f[x-2]+1.f[x-5]+1,f[x-7]+1}",
   "id": "4f53a902573ef6a"
  },
  {
   "metadata": {},
   "cell_type": "markdown",
   "source": "三、确认初始条件和边界情况",
   "id": "a57c251695ec365b"
  },
  {
   "metadata": {},
   "cell_type": "markdown",
   "source": "四、计算顺序",
   "id": "ff9a16842e7cc56f"
  },
  {
   "metadata": {},
   "cell_type": "markdown",
   "source": "递归的代码,斐波那契数列",
   "id": "c4ef8d8ec5a2c713"
  },
  {
   "metadata": {
    "ExecuteTime": {
     "end_time": "2024-07-26T05:57:34.837616Z",
     "start_time": "2024-07-26T05:57:34.834393Z"
    }
   },
   "cell_type": "code",
   "source": [
    "def f(x):\n",
    "    if x==0:\n",
    "        return 0\n",
    "    res = float(\"inf\")\n",
    "    if x>=2:\n",
    "        res = min(f(x-2)+1,res)\n",
    "    if x>=5:\n",
    "        res = min(f(x-5)+1,res)\n",
    "    if x>=7:\n",
    "        res = min(f(x-7)+1,res)\n",
    "    return res\n",
    "print(f(27))"
   ],
   "id": "2e2298b326985790",
   "outputs": [
    {
     "name": "stdout",
     "output_type": "stream",
     "text": [
      "5\n"
     ]
    }
   ],
   "execution_count": 12
  },
  {
   "metadata": {},
   "cell_type": "markdown",
   "source": "",
   "id": "2378c2ffc422373"
  },
  {
   "metadata": {},
   "cell_type": "markdown",
   "source": "将递归转递推，保证每次遍历的结果都已经计算并在数组中来减少计算量.就是设立一个数组储存，并且使用循环结构，从小到大计算,但同样用最后一步的情况思考",
   "id": "d292e3c047966f61"
  },
  {
   "metadata": {
    "ExecuteTime": {
     "end_time": "2024-07-26T07:50:29.732376Z",
     "start_time": "2024-07-26T07:50:29.719639Z"
    }
   },
   "cell_type": "code",
   "source": [
    "def change_coin(n):\n",
    "    chc = [float(\"inf\")]*(n+1) #初始化动态规划数组\n",
    "    chc[0] = 0\n",
    "    \n",
    "    for i in range(1,n+1):\n",
    "        if i >=2 :\n",
    "            chc[i] = min(chc[i],chc[i-2]+1)\n",
    "            \n",
    "        if i >=5 :\n",
    "            chc[i] = min(chc[i],chc[i-5]+1)\n",
    "            \n",
    "        if i >=7 :\n",
    "            chc[i] = min(chc[i],chc[i-7]+1)\n",
    "            \n",
    "    if chc[n] != float(\"inf\"):\n",
    "        return chc[n]\n",
    "        \n",
    "    else:\n",
    "        print('无法找零')\n",
    "print(change_coin(1032))"
   ],
   "id": "c25beb27dea2d042",
   "outputs": [
    {
     "ename": "IndexError",
     "evalue": "list index out of range",
     "output_type": "error",
     "traceback": [
      "\u001B[1;31m---------------------------------------------------------------------------\u001B[0m",
      "\u001B[1;31mIndexError\u001B[0m                                Traceback (most recent call last)",
      "Cell \u001B[1;32mIn[71], line 26\u001B[0m\n\u001B[0;32m     23\u001B[0m coin \u001B[38;5;241m=\u001B[39m\u001B[38;5;241m1032\u001B[39m\n\u001B[0;32m     24\u001B[0m \u001B[38;5;28;01mwhile\u001B[39;00m coin \u001B[38;5;241m>\u001B[39m \u001B[38;5;241m0\u001B[39m:\n\u001B[1;32m---> 26\u001B[0m     coin \u001B[38;5;241m=\u001B[39m \u001B[43mresult\u001B[49m\u001B[43m[\u001B[49m\u001B[43mcoin\u001B[49m\u001B[43m]\u001B[49m\n\u001B[0;32m     28\u001B[0m     result\u001B[38;5;241m.\u001B[39mappend(coin)  \u001B[38;5;66;03m# 添加硬币到结果列表\u001B[39;00m\n\u001B[0;32m     30\u001B[0m     n \u001B[38;5;241m-\u001B[39m\u001B[38;5;241m=\u001B[39m coin\n",
      "\u001B[1;31mIndexError\u001B[0m: list index out of range"
     ]
    }
   ],
   "execution_count": 71
  },
  {
   "metadata": {},
   "cell_type": "markdown",
   "source": "0-1规划的背包问题",
   "id": "681599e79d2ec560"
  },
  {
   "metadata": {
    "ExecuteTime": {
     "end_time": "2024-07-26T07:40:55.435330Z",
     "start_time": "2024-07-26T07:40:55.430849Z"
    }
   },
   "cell_type": "code",
   "source": [
    "def bagproblem(weights,values,capacity):\n",
    "    n = len(weights)\n",
    "    dp = [[0 for j in range(capacity+1)] for i in range(n+1)] #行（i）表示物品的索引，范围是从 0 到 n（物品总数）。\n",
    "    ## 列（j）表示当前背包容量，范围是从 0 到 capacity\n",
    "    for i in range(1,n+1):\n",
    "        for j in range(1,capacity+1):\n",
    "            if j < weights[i-1]:\n",
    "                dp[i][j] = dp[i-1][j]\n",
    "            else:\n",
    "                dp[i][j] = max(dp[i-1][j],dp[i-1][j-weights[i-1]]+values[i-1])\n",
    "                #不选择第 i 个物品：此时最大价值为 dp[i-1][j]。\n",
    "                # 选择第 i 个物品：此时我们需要腾出 weights[i-1] 的空间，所以剩余的容量为 j - weights[i-1]，对应的最大价值为 \n",
    "                # dp[i-1][j-weights[i-1]] + values[i-1]。\n",
    "                \n",
    "    return dp[n][capacity]\n",
    "# i表示对第i件物品的选择，即放不放物品 ，总共有n件物品 0为不放 1为放 \n",
    "# j表示价值 如果放不下价值就不变 ，可以放但是要判断要不要放价值更高的  "
   ],
   "id": "16a6245b9a379838",
   "outputs": [],
   "execution_count": 56
  },
  {
   "metadata": {
    "ExecuteTime": {
     "end_time": "2024-07-26T06:31:39.697356Z",
     "start_time": "2024-07-26T06:31:33.840871Z"
    }
   },
   "cell_type": "code",
   "source": [
    "w = input('重量为')\n",
    "v = input('价值为')\n",
    "c = input('容量为')\n",
    "weights = [int(i) for i in w.split(',')]\n",
    "values = [int(i) for i in v.split(',')]\n",
    "capacity = int(c)\n",
    "print(bagproblem(weights,values,capacity))"
   ],
   "id": "6c6856a602165b92",
   "outputs": [
    {
     "name": "stdout",
     "output_type": "stream",
     "text": [
      "9\n"
     ]
    }
   ],
   "execution_count": 40
  },
  {
   "metadata": {},
   "cell_type": "markdown",
   "source": "贪心策略",
   "id": "79e85d32318cf0ac"
  },
  {
   "metadata": {},
   "cell_type": "markdown",
   "source": [
    "贪心算法总是作出在当前看来是最好的选择。也就是说贪心算法并不从整体最优上加以考虑，它所作出的选择只是在某种意义上的局部最优选择。\n",
    "当然，我们希望贪心算法得到的最终结果也是整体最优的。"
   ],
   "id": "4777e056f480120"
  },
  {
   "metadata": {},
   "cell_type": "markdown",
   "source": [
    "贪心算法通过一系列的选择来得到一个问题的解它所作的每一个选择都是当前状态下某种意义的最好选择，即贪心选择。希望通过每次所作的贪心选择导致最终结果是问题的一个最优解。这种启发式的策略并不总能奏效，达到预期的目的。解活动安排问题的贪心算法就然而在许多情况下确能是一个例子。下面我们着重讨论可以用贪心算法解的问题的一般特征。\n",
    "对于一个具体的问题，我们怎么知道是否可用贪心算法来解此问题，以及能否得到问题的一个最优解呢?这个问题很难给予肯定的回答。"
   ],
   "id": "8ef2c078d214f4c"
  },
  {
   "metadata": {},
   "cell_type": "markdown",
   "source": "但是，从多可以用贪心算法求解的问题中我们看到它们一般具有两个重要的性质:贪心选择性质和最优子结构性质。",
   "id": "b8960bd76f8ee197"
  },
  {
   "metadata": {},
   "cell_type": "markdown",
   "source": "比如要让一年的收入最高，就要让第一周，第二周......收入最高，就把年收入问题转换为周收入问题",
   "id": "a4e734125c664ae8"
  },
  {
   "metadata": {},
   "cell_type": "markdown",
   "source": "动态规划dp的子结构要独立又重叠于下一步的。贪心策略只顾眼前",
   "id": "458ebd9fd1b423fc"
  },
  {
   "metadata": {
    "ExecuteTime": {
     "end_time": "2024-07-26T07:36:29.913053Z",
     "start_time": "2024-07-26T07:36:29.901903Z"
    }
   },
   "cell_type": "code",
   "source": [
    "def make_change(n):\n",
    "    coins = [25, 10, 5, 1]  # 硬币面额\n",
    "    result = []\n",
    "    for coin in coins:\n",
    "        while n >= coin:\n",
    "            n -= coin\n",
    "            result.append(coin)\n",
    "    return result\n",
    "print(make_change(27))"
   ],
   "id": "25d0b46193e3cb2f",
   "outputs": [
    {
     "name": "stdout",
     "output_type": "stream",
     "text": [
      "[25, 1, 1]\n"
     ]
    }
   ],
   "execution_count": 41
  }
 ],
 "metadata": {
  "kernelspec": {
   "display_name": "Python 3",
   "language": "python",
   "name": "python3"
  },
  "language_info": {
   "codemirror_mode": {
    "name": "ipython",
    "version": 2
   },
   "file_extension": ".py",
   "mimetype": "text/x-python",
   "name": "python",
   "nbconvert_exporter": "python",
   "pygments_lexer": "ipython2",
   "version": "2.7.6"
  }
 },
 "nbformat": 4,
 "nbformat_minor": 5
}
