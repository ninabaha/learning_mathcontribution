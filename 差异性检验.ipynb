{
 "cells": [
  {
   "metadata": {},
   "cell_type": "markdown",
   "source": "两组样本的差异性检验可以通过t-检验实现。T-检验分为三种不同的类型：单样本t检验、配对样本t检验和独立样本t检验。其中，单样本t检验解决的是检验正态性的问题，这里主要讨论配对样本t检验和独立样本t检验。",
   "id": "bfef223dd382d0bd"
  },
  {
   "metadata": {},
   "cell_type": "markdown",
   "source": "配对样本t检验适合检验同一组样本在进行某一操作前后的状态差异。例如，想探究一笼健康的小白鼠在注射某神经亢奋药物前后的神经活跃性差异，这种情况就适合使用配对样本t检验。因为在注射药物前后，小白鼠始终是同一批小白鼠，没有新的老鼠混进来也没有老鼠逃走，它们只是需要被检测注射药物前后两种不同的状态。配对样本t检验需要构造的统计量为：",
   "id": "b0f582fe580ba075"
  },
  {
   "metadata": {},
   "cell_type": "markdown",
   "source": "独立样本t检验适合检验两组不同的样本在某一方面的表现差异。例如，想探究高一学生2000米跑成绩和高三学生2000米跑的成绩差异，这种情况就适合使用独立样本t检验。因为高一学生和高三学生是两批不同的人，它们的男女比例不同、年龄不同、平均身高体重不同……甚至连人数都是不一样的！区别独立样本和配对样本一个最根本的特征就是样本是同一批还是不同的两批，而最直观的特征就是两组样本的数量是否相同。数量不同的两组样本不能构成配对样本。独立样本t检验需要构造的统计量为：",
   "id": "a79764b2e8def406"
  },
  {
   "metadata": {},
   "cell_type": "markdown",
   "source": "差异性检验的原假设H0认为：两类样本之间没有差异。同样可以通过Python中的scipy.stats包调用函数求解，使用ttest_rel进行配对样本t检验，使用ttest_ind进行独立样本t检验。例如，现在有三组数据要进行差异性检验，它们的使用方法形如：",
   "id": "caec21c5320bb250"
  },
  {
   "metadata": {
    "ExecuteTime": {
     "end_time": "2024-08-10T12:54:02.203032Z",
     "start_time": "2024-08-10T12:54:02.196996Z"
    }
   },
   "cell_type": "code",
   "source": [
    "from scipy.stats import ttest_rel,ttest_ind\n",
    "import numpy as np\n",
    "\n",
    "# 假设有三组样本的数据 \n",
    "data1 = np.random.normal(10,5,100) #第一个参数是均值mean,第二个参数是标准差std\n",
    "data2 = np.random.normal(12,6,100)\n",
    "data3 = np.random.normal(10,5,55)\n",
    "t_statistic,p_value1 = ttest_rel(data1,data2)\n",
    "print(t_statistic)\n",
    "print(p_value1)\n",
    "t_statistic2,p_value2 = ttest_ind(data1,data2)\n",
    "print(t_statistic2)\n",
    "print(p_value2)"
   ],
   "id": "587e2813bdf832ed",
   "outputs": [
    {
     "name": "stdout",
     "output_type": "stream",
     "text": [
      "-1.5958875786142301\n",
      "0.1137012974953116\n",
      "-1.6382113641502132\n",
      "0.10296573039460544\n"
     ]
    }
   ],
   "execution_count": 9
  },
  {
   "metadata": {},
   "cell_type": "markdown",
   "source": "在上面的案例中，data1和data2构成了配对样本关系，data1和data3是服从同一正态分布的两组独立样本。对二者同样分析概率大小就可以确定是否有差异了。一般来讲，如果概率比较小（至少小于0.05）可以认为拒绝原假设接受备择假设，认为两类样本有差异。",
   "id": "d8391f0e291cab5a"
  },
  {
   "metadata": {},
   "cell_type": "markdown",
   "source": [
    "注意：t检验之前需要分析数据是否满足方差齐性，这一检验通过莱文检验实现。\n",
    "莱文检验（Levene's test）是一种用于检验两组数据方差是否相等的统计检验方法。它的基本思想是比较两组数据的变异程度，如果两组数据的方差相等，那么它们的变异程度应该相似。如果两组数据的方差不相等，则它们的变异程度可能会有显著差异。在进行t检验之前进行莱文检验的原因是，t检验的前提假设是两个样本的方差相等。如果这个假设不成立，t检验的结果可能会受到方差不等的影响，导致错误的结论。因此，在进行t检验之前，需要进行莱文检验来检验两个样本的方差是否相等。代码形如："
   ],
   "id": "836e2b0aec1dac7"
  },
  {
   "metadata": {
    "ExecuteTime": {
     "end_time": "2024-08-10T12:54:03.883346Z",
     "start_time": "2024-08-10T12:54:03.879330Z"
    }
   },
   "cell_type": "code",
   "source": [
    "from scipy.stats import levene\n",
    "# 执行莱文检验  \n",
    "w, p = levene(data1, data2)  \n",
    "# 输出结果  \n",
    "print('W统计量:', w)  \n",
    "print('p值:', p)"
   ],
   "id": "40a61bd78416c77",
   "outputs": [
    {
     "name": "stdout",
     "output_type": "stream",
     "text": [
      "W统计量: 6.632747694595759\n",
      "p值: 0.010741046845079993\n"
     ]
    }
   ],
   "execution_count": 10
  },
  {
   "metadata": {},
   "cell_type": "markdown",
   "source": "在上述代码中，stats.levene()函数用于执行莱文检验。该函数返回两个值：W统计量和p值。W统计量越小，说明两组数据的方差越接近相等；p值越接近0，说明拒绝原假设（即两组数据的方差相等）的证据越强。通常情况下，如果p值小于设定的显著性水平（例如0.05），则认为两组数据的方差不相等，需要进一步分析或处理。",
   "id": "9386bead5c4b6de8"
  },
  {
   "metadata": {},
   "cell_type": "markdown",
   "source": [
    "前面的例子介绍的是两组样本之间的差异性分析，那么如果样本存在多组又应该如何处理呢？当不同样本存在不同操作的时候又应该如何处理呢？考虑这样一种情况：现在突然爆发了一种传染病，得了这种传染病的人会腹泻。医院里面有一批患者，医生将这群人分成了两组，一群人通过营养液补充体力和水分；一群人除了注射营养液以外还需要服用由中药成分A和成分B制成的胶囊，发现实验组患者的腹泻频率比对照组低。那这个低是偶然导致的，还是两味药材在一起作用真的有用呢？如果有用，究竟是A在起作用，还是B在起作用，还是二者配方以后一同起作用呢？这些问题就需要交给方差分析来解答。\n",
    "\n",
    "方差分析（ANOVA）可以用于两个样本及以上样本之间的比较，并可以用于分离各有关因素并估计其对总变异的作用，以及分析因素间的交互作用。方差分析可以用于均数差别的显著性检验、分离各有关因素并估计其对总变异的作用、分析因素间的交互作用和方差齐性检验等。\n",
    "\n",
    "方差分析的基本思想是通过比较不同组别之间的平均数差异来确定这些差异是否显著。它利用方差度量每个组别的变异，并将这些变异分解为组内和组间变异。通过比较组间变异和组内变异的比例，可以判断不同组别之间的平均数差异是否具有统计意义。如果组间变异的比例较大，说明组别之间的差异显著。反之，如果组内变异的比例较大，说明组别之间的差异不显著，可能是由于随机误差的影响。因此，方差分析可以帮助我们确定不同因素对实验结果的影响程度，进一步揭示数据背后的规律和机制。方差可以分解成三个部分：Q=Q1+Q2+Q3。其中，Q1是指多个控制变量单独作用引起的平方和，可以用来描述每个变量单独是否存在影响；Q2是指多个控制变量交互作用引起的离差平方和，可以用来描述变量之间是否存在协同效应或交互；Q3则是随机扰动，用于反映结果受随机影响的程度。\n",
    "\n",
    "在Python中，可以通过scipy.stats.f_oneway函数实现方差分析。例如，将患者分为四组，对照组仅使用营养液，实验组1除了营养液外服用药剂A，实验组2除了营养液外服用药剂B，实验组3除了营养液外使用AB的复方药物。四个组的患者数量相同，对这四个组的分析可以参考如下代码："
   ],
   "id": "e01af2ba16cedfe2"
  },
  {
   "metadata": {
    "ExecuteTime": {
     "end_time": "2024-08-10T13:05:14.535679Z",
     "start_time": "2024-08-10T13:05:14.531247Z"
    }
   },
   "cell_type": "code",
   "source": [
    "import numpy as np\n",
    "from scipy.stats import f_oneway\n",
    "# 创建数据  \n",
    "np.random.seed(0)  # 设置随机种子以保证结果可复现  \n",
    "group1 = np.random.normal(loc=5, scale=1, size=10)  # 只接受营养液  \n",
    "group2 = np.random.normal(loc=4, scale=1, size=10)  # 接受营养液并服用成分A  \n",
    "group3 = np.random.normal(loc=3, scale=1, size=10)  # 接受营养液并服用成分B  \n",
    "group4 = np.random.normal(loc=2, scale=1, size=10)  # 接受营养液并服用成分A和B\n",
    "groups = [group1, group2, group3, group4]  \n",
    "group_names = ['只接受营养液', '接受营养液并服用成分A', '接受营养液并服用成分B', '接受营养液并服用成分A和B']  \n",
    "# 执行ANOVA  \n",
    "F_stat, p_value = f_oneway(*groups)   \n",
    "print('F统计量:', F_stat)  \n",
    "print('p值:', p_value)"
   ],
   "id": "5e9aec6abbd9396f",
   "outputs": [
    {
     "name": "stdout",
     "output_type": "stream",
     "text": [
      "F统计量: 23.04443796865046\n",
      "p值: 1.6823034606251506e-08\n"
     ]
    }
   ],
   "execution_count": 12
  },
  {
   "metadata": {},
   "cell_type": "markdown",
   "source": "最终得到p值是小于0.05的，说明存在显著性差异。但是究竟是怎样的显著性差异，作用机理是什么？A和B谁更有效？它们是否存在协同作用？这个结果显然不尽人意。为了获得更详细的分析，还可以使用statsmodels中的方差分析。方差分析在statsmodels可以通过OLS实现，但在此之前，需要对数据进行一个整理：",
   "id": "f8b4611cc25ea23a"
  },
  {
   "metadata": {
    "ExecuteTime": {
     "end_time": "2024-08-10T13:07:31.472916Z",
     "start_time": "2024-08-10T13:07:31.469110Z"
    }
   },
   "cell_type": "code",
   "source": [
    "import pandas as pd\n",
    "import statsmodels.api as sm\n",
    "from statsmodels.formula.api import ols\n",
    "# 记录是否服用A\n",
    "a=[0]*10+[1]*10+[0]*10+[1]*10\n",
    "# 记录是否服用B\n",
    "b=[0]*20+[1]*20\n",
    "groups=np.array(groups).flatten()\n",
    "data={'A':a,'B':b,'groups':groups}\n",
    "data=pd.DataFrame(data)"
   ],
   "id": "df4b848a282e18a",
   "outputs": [],
   "execution_count": 14
  },
  {
   "metadata": {},
   "cell_type": "markdown",
   "source": "此时，数据data中包含了三列：是否服用A，是否服用B和腹泻次数。可以用以下代码创建方差分析模型并分析：",
   "id": "45032dd5d3565ece"
  },
  {
   "metadata": {
    "ExecuteTime": {
     "end_time": "2024-08-10T13:11:31.677740Z",
     "start_time": "2024-08-10T13:11:31.665865Z"
    }
   },
   "cell_type": "code",
   "source": [
    "# 创建方差分析模型\n",
    "model = ols('groups ~ A + B + A*B', data=data).fit()\n",
    "# 分析方差分析模型\n",
    "anova_results = sm.stats.anova_lm(model, typ=2)\n",
    "print(anova_results)"
   ],
   "id": "1b37be40db493989",
   "outputs": [
    {
     "name": "stdout",
     "output_type": "stream",
     "text": [
      "             sum_sq    df          F        PR(>F)\n",
      "A         16.973878   1.0  14.637724  4.994126e-04\n",
      "B         63.181057   1.0  54.485302  1.043996e-08\n",
      "A:B        0.011929   1.0   0.010287  9.197744e-01\n",
      "Residual  41.745534  36.0        NaN           NaN\n"
     ]
    }
   ],
   "execution_count": 26
  }
 ],
 "metadata": {
  "kernelspec": {
   "display_name": "Python 3",
   "language": "python",
   "name": "python3"
  },
  "language_info": {
   "codemirror_mode": {
    "name": "ipython",
    "version": 2
   },
   "file_extension": ".py",
   "mimetype": "text/x-python",
   "name": "python",
   "nbconvert_exporter": "python",
   "pygments_lexer": "ipython2",
   "version": "2.7.6"
  }
 },
 "nbformat": 4,
 "nbformat_minor": 5
}
