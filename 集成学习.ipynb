{
 "cells": [
  {
   "metadata": {},
   "cell_type": "markdown",
   "source": "集成学习(Ensemble learning)通过构建并结合多个学习器来完成学习任务，有时也被称为多分类器系统。集成学习的一般结构为：先产生一组“个体学习器”，再用某种策略将它们结合起来。集成中只包含同种类型的个体学习器，称为同质，当中的个体学习器亦称为“基学习器”，相应的算法称为“基学习算法”。集成中包含不同类型的个体学习器，称为“异质”，当中的个体学习器称为“组建学习器”。",
   "id": "e2376a9eff9c7f0"
  },
  {
   "metadata": {
    "ExecuteTime": {
     "end_time": "2024-08-16T12:56:48.999090Z",
     "start_time": "2024-08-16T12:56:48.982512Z"
    }
   },
   "cell_type": "code",
   "source": [
    "import numpy as np\n",
    "class DecisionTreeClassifierWithWeight:\n",
    "    def __init__(self):\n",
    "         self.best_err = 1  # 最小的加权错误率 \n",
    "         self.best_fea_id = 0  # 最优特征id\n",
    "         self.best_thres = 0  # 选定特征的最优阈值\n",
    "         self.best_op = 1  # 阈值符号，其中 1: >, 0: < \n",
    "    def fit(self, X, y, sample_weight=None):\n",
    "         if sample_weight is None:\n",
    "             sample_weight = np.ones(len(X)) / len(X)\n",
    "         n = X.shape[1]\n",
    "         for i in range(n):\n",
    "             feature = X[:, i]  # 选定特征列\n",
    "             fea_unique = np.sort(np.unique(feature))  # 将所有特征值从小到大排序\n",
    "             for j in range(len(fea_unique)-1):\n",
    "                 thres = (fea_unique[j] + fea_unique[j+1]) / 2  # 逐一设定可能阈值\n",
    "                 for op in (0, 1):\n",
    "                     y_ = 2*(feature >= thres)-1 if op==1 else 2*(feature < thres)-1  # 判断何种符号为最优\n",
    "                     err = np.sum((y_ != y)*sample_weight)\n",
    "                     if err < self.best_err:  # 当前参数组合可以获得更低错误率，更新最优参数\n",
    "                         self.best_err = err\n",
    "                         self.best_op = op\n",
    "                         self.best_fea_id = i\n",
    "                         self.best_thres = thres\n",
    "         return self\n",
    "    def predict(self, X):\n",
    "        feature = X[:, self.best_fea_id]\n",
    "        return 2*(feature >= self.best_thres)-1 if self.best_op==1 else 2*(feature < self.best_thres)-1\n",
    "    def score(self, X, y, sample_weight=None):\n",
    "        y_pre = self.predict(X)\n",
    "        if sample_weight is not None:\n",
    "            return np.sum((y_pre == y)*sample_weight) \n",
    "        return np.mean(y_pre == y)"
   ],
   "id": "ee71866998aa4b3b",
   "outputs": [],
   "execution_count": 8
  },
  {
   "metadata": {
    "ExecuteTime": {
     "end_time": "2024-08-16T13:49:24.525325Z",
     "start_time": "2024-08-16T13:49:15.830444Z"
    }
   },
   "cell_type": "code",
   "source": [
    "class AdaBoostClassifier:\n",
    "    def __init__(self, n_estimators=50):\n",
    "         self.n_estimators = n_estimators \n",
    "         self.estimators = []\n",
    "         self.alphas = []\n",
    "    def fit(self, X, y):\n",
    "         sample_weight = np.ones(len(X)) / len(X)  # 初始化样本权重为 1/N\n",
    "         for _ in range(self.n_estimators):\n",
    "             dtc = DecisionTreeClassifierWithWeight().fit(X, y, sample_weight)  # 训练弱学习器\n",
    "             alpha = 1/2 * np.log((1-dtc.best_err)/dtc.best_err)  # 权重系数\n",
    "             y_pred = dtc.predict(X)\n",
    "             sample_weight *= np.exp(-alpha*y_pred*y)  # 更新迭代样本权重\n",
    "             sample_weight /= np.sum(sample_weight)  # 样本权重归一化\n",
    "             self.estimators.append(dtc)\n",
    "             self.alphas.append(alpha)\n",
    "         return self   \n",
    "\n",
    "    def predict(self, X):\n",
    "         y_pred = np.empty((len(X), self.n_estimators))  # 预测结果二维数组，其中每一列代表一个弱学习器的预测结果\n",
    "         for i in range(self.n_estimators):\n",
    "             y_pred[:, i] = self.estimators[i].predict(X)\n",
    "         y_pred = y_pred * np.array(self.alphas)  # 将预测结果与训练权重乘积作为集成预测结果\n",
    "         return 2*(np.sum(y_pred, axis=1)>0)-1  # 以0为阈值，判断并映射为-1和1\n",
    "    def score(self, X, y):\n",
    "         y_pred = self.predict(X)\n",
    "         return np.mean(y_pred==y)\n",
    "#使用sklearn自带的乳腺癌数据集测试：\n",
    "from sklearn.datasets import load_breast_cancer\n",
    "from sklearn.model_selection import train_test_split\n",
    "X, y = load_breast_cancer(return_X_y=True)\n",
    "y = 2*y-1  # 将0/1取值映射为-1/1取值 \n",
    "x_train, x_test, y_train, y_test = train_test_split(X, y,random_state=42)\n",
    "print(AdaBoostClassifier().fit(x_train, y_train).score(x_test, y_test)) "
   ],
   "id": "8d366f2408e9003c",
   "outputs": [
    {
     "name": "stdout",
     "output_type": "stream",
     "text": [
      "0.972027972027972\n"
     ]
    }
   ],
   "execution_count": 52
  },
  {
   "metadata": {},
   "cell_type": "markdown",
   "source": "对于随机森林回归器（RandomForestRegressor），score 方法默认使用 R² 分数来评估模型的性能，而不是准确率。这是因为随机森林回归器主要用于回归任务，而不是分类任务。它的 score 方法如下所示：",
   "id": "4283ef06f7bbc42a"
  },
  {
   "metadata": {
    "ExecuteTime": {
     "end_time": "2024-08-16T13:47:15.366685Z",
     "start_time": "2024-08-16T13:47:15.212739Z"
    }
   },
   "cell_type": "code",
   "source": [
    "import pandas as pd\n",
    "import numpy as np\n",
    "from sklearn.ensemble import RandomForestRegressor\n",
    "from sklearn.metrics import mean_squared_error, r2_score\n",
    "from sklearn.model_selection import train_test_split\n",
    "import matplotlib.pyplot as plt\n",
    "data = {\n",
    "    'Size': [100, 120, 90, 110, 150, 160, 140, 130, 180, 200],\n",
    "    'Bedrooms': [2, 3, 2, 2, 3, 4, 3, 3, 4, 5],\n",
    "    'Location': ['Suburban', 'City Center', 'Suburban', 'Suburban', 'City Center', 'City Center', 'Suburban', 'City Center', 'Suburban', 'City Center'],\n",
    "    'Price': ['Low', 'Medium', 'Low', 'Medium', 'High', 'High', 'Medium', 'High', 'High', 'Very High']\n",
    "}\n",
    "replacement1 = {'Suburban':0,\"City Center\":1}\n",
    "replacement2 = {'Low':0,\"Medium\":1,\"High\":2,\"Very High\":3}\n",
    "\n",
    "data1 = pd.DataFrame(data)\n",
    "data1['Location'] = data1['Location'].map(replacement1)\n",
    "data1['Price'] = data1['Price'].map(replacement2)\n",
    "print(data1.head())\n",
    "x = data1.iloc[:,0:-1]\n",
    "y = data1.iloc[:,-1]\n",
    "x_train ,x_test ,y_train ,y_test = train_test_split(x , y ,test_size = 0.3)\n",
    "rf = RandomForestRegressor(n_estimators=100, random_state=42) #n_estimator 表示随机树的数量\n",
    "rf.fit(x_train, y_train)\n",
    "y_predict = rf.predict(x_test)\n",
    "\n",
    "mse = mean_squared_error(y_test, y_predict)  #均方误差 它的值越小表示模型的预测效果越好  如果预测完全正确，MSE 的值为 0\n",
    "r2 = r2_score(y_test, y_predict)             #决定系数 R² 越接近于 1，表示模型拟合得越好；如果 R² 接近于 0 或者是负数，则表示模型的预测效果不佳\n",
    "# 输出模型评估结果和目标方程\n",
    "print('MSE:', mse)\n",
    "print('R-squared:', r2)\n",
    "\n",
    "feature_importance = rf.feature_importances_\n",
    "feature_names = x.columns.tolist()\n",
    "sorted_idx = feature_importance.argsort() #排序\n",
    "plt.rcParams['font.sans-serif'] = ['Microsoft YaHei']\n",
    "plt.rcParams['axes.unicode_minus'] = False\n",
    "plt.barh(range(len(feature_importance)), feature_importance[sorted_idx])\n",
    "plt.yticks(range(len(feature_importance)), [feature_names[i] for i in sorted_idx],fontsize=5)\n",
    "plt.xlabel('特征重要性')\n",
    "plt.ylabel('特征名称')\n",
    "plt.title('随机森林回归特征重要性')"
   ],
   "id": "f1c8d85039df063a",
   "outputs": [
    {
     "name": "stdout",
     "output_type": "stream",
     "text": [
      "   Size  Bedrooms  Location  Price\n",
      "0   100         2         0      0\n",
      "1   120         3         1      1\n",
      "2    90         2         0      0\n",
      "3   110         2         0      1\n",
      "4   150         3         1      2\n",
      "MSE: 0.7548333333333334\n",
      "R-squared: 0.15081250000000013\n",
      "0.0\n"
     ]
    },
    {
     "data": {
      "text/plain": [
       "Text(0.5, 1.0, '随机森林回归特征重要性')"
      ]
     },
     "execution_count": 51,
     "metadata": {},
     "output_type": "execute_result"
    },
    {
     "data": {
      "text/plain": [
       "<Figure size 640x480 with 1 Axes>"
      ],
      "image/png": "[encoded data removed]"
     },
     "metadata": {},
     "output_type": "display_data"
    }
   ],
   "execution_count": 51
  },
  {
   "metadata": {
    "ExecuteTime": {
     "end_time": "2024-08-16T13:43:04.831727Z",
     "start_time": "2024-08-16T13:43:04.625656Z"
    }
   },
   "cell_type": "code",
   "source": [
    "from sklearn.ensemble import RandomForestClassifier\n",
    "\n",
    "# 创建随机森林分类器\n",
    "rf = RandomForestClassifier(\n",
    "    n_estimators=100,\n",
    "    criterion='gini',\n",
    "    max_depth=None,\n",
    "    min_samples_split=2,\n",
    "    min_samples_leaf=1,\n",
    "    min_weight_fraction_leaf=0.0,\n",
    "    max_features='sqrt',  # 默认为 'sqrt'，表示取特征数量的平方根\n",
    "    max_leaf_nodes=None,\n",
    "    min_impurity_decrease=0.0,\n",
    "    bootstrap=True,\n",
    "    oob_score=False,\n",
    "    n_jobs=None,\n",
    "    random_state=42,\n",
    "    verbose=0,\n",
    "    warm_start=False,\n",
    "    class_weight=None,\n",
    "    ccp_alpha=0.0,\n",
    "    max_samples=None\n",
    ")\n",
    "\n",
    "# 训练随机森林分类器\n",
    "rf.fit(X_train, y_train)\n",
    "\n",
    "# 预测并评估\n",
    "y_pred = rf.predict(X_test)\n",
    "accuracy = accuracy_score(y_test, y_pred)\n",
    "print(\"Random Forest Accuracy: {:.2f}%\".format(accuracy * 100))"
   ],
   "id": "5a2fd8843322caf",
   "outputs": [
    {
     "name": "stdout",
     "output_type": "stream",
     "text": [
      "Random Forest Accuracy: 88.00%\n"
     ]
    }
   ],
   "execution_count": 46
  },
  {
   "metadata": {
    "ExecuteTime": {
     "end_time": "2024-08-16T13:43:27.347254Z",
     "start_time": "2024-08-16T13:43:27.146007Z"
    }
   },
   "cell_type": "code",
   "source": [
    "#自定义bagging\n",
    "import numpy as np\n",
    "from sklearn.tree import DecisionTreeClassifier\n",
    "from sklearn.datasets import make_classification\n",
    "from sklearn.model_selection import train_test_split\n",
    "from sklearn.metrics import accuracy_score\n",
    "\n",
    "class CustomBaggingClassifier:\n",
    "    def __init__(self, n_estimators=100, max_samples=0.5, max_features=0.5, random_state=None):\n",
    "        self.n_estimators = n_estimators\n",
    "        self.max_samples = max_samples\n",
    "        self.max_features = max_features\n",
    "        self.random_state = random_state\n",
    "        self.estimators_ = []\n",
    "\n",
    "    def fit(self, X, y):\n",
    "        rng = np.random.RandomState(self.random_state)\n",
    "        \n",
    "        n_samples, n_features = X.shape\n",
    "        for _ in range(self.n_estimators):\n",
    "            # 有放回地抽样\n",
    "            indices = rng.choice(n_samples, size=int(self.max_samples * n_samples), replace=True)\n",
    "            features_indices = rng.choice(n_features, size=int(self.max_features * n_features), replace=True)\n",
    "            \n",
    "            X_bootstrap, y_bootstrap = X[indices][:, features_indices], y[indices]\n",
    "            \n",
    "            tree = DecisionTreeClassifier()\n",
    "            tree.fit(X_bootstrap, y_bootstrap)\n",
    "            self.estimators_.append((tree, features_indices))\n",
    "\n",
    "    def predict(self, X):\n",
    "        predictions = np.array([estimator.predict(X[:, features]) for estimator, features in self.estimators_])\n",
    "        return np.apply_along_axis(lambda x: np.argmax(np.bincount(x)), axis=0, arr=predictions)\n",
    "\n",
    "# 创建数据集\n",
    "X, y = make_classification(n_samples=1000, n_features=20, n_informative=2, n_redundant=10, random_state=1)\n",
    "X_train, X_test, y_train, y_test = train_test_split(X, y, test_size=0.25, random_state=42)\n",
    "\n",
    "# 自定义 Bagging 分类器\n",
    "custom_bagging = CustomBaggingClassifier(n_estimators=100, max_samples=0.5, max_features=0.5, random_state=42)\n",
    "custom_bagging.fit(X_train, y_train)\n",
    "\n",
    "# 预测并评估\n",
    "y_pred = custom_bagging.predict(X_test)\n",
    "accuracy = accuracy_score(y_test, y_pred)\n",
    "print(\"Custom Bagging Accuracy: {:.2f}%\".format(accuracy * 100))"
   ],
   "id": "cd763bed1fcba35c",
   "outputs": [
    {
     "name": "stdout",
     "output_type": "stream",
     "text": [
      "Custom Bagging Accuracy: 87.60%\n"
     ]
    }
   ],
   "execution_count": 47
  }
 ],
 "metadata": {
  "kernelspec": {
   "display_name": "Python 3",
   "language": "python",
   "name": "python3"
  },
  "language_info": {
   "codemirror_mode": {
    "name": "ipython",
    "version": 2
   },
   "file_extension": ".py",
   "mimetype": "text/x-python",
   "name": "python",
   "nbconvert_exporter": "python",
   "pygments_lexer": "ipython2",
   "version": "2.7.6"
  }
 },
 "nbformat": 4,
 "nbformat_minor": 5
}
