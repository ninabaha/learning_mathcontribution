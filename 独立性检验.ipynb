{
 "cells": [
  {
   "metadata": {},
   "cell_type": "markdown",
   "source": [
    "有一个典型的例子可以帮助大家理解独立性的问题：抽不抽烟和得不得肺癌的关系。二者不能说存在因果关系，因果关系是指牛顿第二定律一样：物体有合外力就会产生一个加速度，力是产生加速度的原因。但一个人即使抽烟也可能永远不得肺癌，有的人抽烟抽到了一百多岁活得非常健康，有人不抽烟不喝酒却年纪轻轻就得了癌症。因此二者存在的是相关关系而非因果关系。\n",
    "\n",
    "卡方独立性检验统计的是离散的相关关系，因为得不得肺癌只有两类离散取值：得或者不得，抽不抽烟也只有两类取值：抽或者不抽。两两组合就有四类人群。统计不同的人群可以列出一个列联表，构造的统计量也是一个服从卡方分布的统计量，因其服从卡方分布所以叫它卡方独立性检验。例如，现在在医院某科室里面调查发现，抽烟的患者有556人，其中得肺癌的有324个人；不抽烟的患者有260人，其中得肺癌的有98人。那么，在进行假设检验的时候，首先要给出原假设："
   ],
   "id": "95cef4db9a879d00"
  },
  {
   "metadata": {
    "ExecuteTime": {
     "end_time": "2024-08-10T12:39:40.839773Z",
     "start_time": "2024-08-10T12:39:40.833688Z"
    }
   },
   "cell_type": "code",
   "source": [
    "import numpy as np\n",
    "from scipy.stats import chi2_contingency\n",
    "data=np.array([[324,98],[232,162]])\n",
    "stat , p, dof ,expected = chi2_contingency(data)\n",
    "print('卡方统计量',stat)\n",
    "print('自由度',dof)\n",
    "print('期望频率',expected)\n",
    "print('p的值',p)"
   ],
   "id": "8db8cb18bad2cff3",
   "outputs": [
    {
     "name": "stdout",
     "output_type": "stream",
     "text": [
      "卡方统计量 29.232904944376802\n",
      "自由度 1\n",
      "期望频率 [[287.53921569 134.46078431]\n",
      " [268.46078431 125.53921569]]\n",
      "p的值 6.417997024551012e-08\n"
     ]
    }
   ],
   "execution_count": 4
  },
  {
   "metadata": {},
   "cell_type": "markdown",
   "source": "自由度: 自由度决定了用来解释卡方统计量的分布形状。对于一个2x2的列联表，自由度是 (行数 - 1) * (列数 - 1)。",
   "id": "864325bf96ca72c9"
  },
  {
   "metadata": {},
   "cell_type": "markdown",
   "source": "期望频率: 这是根据独立性假设计算出的每个单元格的预期频数。这些值是在假定两个分类变量相互独立的情况下，理论上应该出现的频数。",
   "id": "c4aa4b8f157344ce"
  },
  {
   "metadata": {},
   "cell_type": "markdown",
   "source": "p的值: 这个值用于判断结果是否显著。通常情况下，如果 p 值小于 0.05，则认为两个变量之间存在显著的相关性。",
   "id": "60b443589a7b214b"
  }
 ],
 "metadata": {
  "kernelspec": {
   "display_name": "Python 3",
   "language": "python",
   "name": "python3"
  },
  "language_info": {
   "codemirror_mode": {
    "name": "ipython",
    "version": 2
   },
   "file_extension": ".py",
   "mimetype": "text/x-python",
   "name": "python",
   "nbconvert_exporter": "python",
   "pygments_lexer": "ipython2",
   "version": "2.7.6"
  }
 },
 "nbformat": 4,
 "nbformat_minor": 5
}
